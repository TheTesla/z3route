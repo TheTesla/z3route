{
 "cells": [
  {
   "cell_type": "code",
   "execution_count": 25,
   "id": "9a2469a4-c94b-40f1-89b1-cd3bdadba3a7",
   "metadata": {},
   "outputs": [],
   "source": [
    "import z3\n",
    "z3.set_param(\"parallel.enable\", \"true\")\n"
   ]
  },
  {
   "cell_type": "code",
   "execution_count": 26,
   "id": "baa61d40-219b-4691-9de3-eb0dd04bdfc7",
   "metadata": {
    "tags": []
   },
   "outputs": [],
   "source": [
    "n = 100\n",
    "\n",
    "x = n*[None]\n",
    "y = n*[None]\n",
    "\n",
    "for i in range(n):\n",
    "    x[i] = z3.Int(f'x[{i}]')\n",
    "    y[i] = z3.Int(f'y[{i}]')\n",
    "\n",
    "s = z3.Solver()\n",
    "for i in range(1,n):\n",
    "    s.add(z3.Or(\n",
    "                z3.And(z3.Or(x[i] == x[i-1]+1, x[i] == x[i-1]-1, x[i] == x[i-1]), y[i] == y[i-1]),\n",
    "                z3.And(z3.Or(y[i] == y[i-1]+1, y[i] == y[i-1]-1), x[i] == x[i-1])\n",
    "                )\n",
    "            )\n",
    "                    \n",
    "                        \n",
    "\n",
    "    \n",
    "s.add(x[0] == 5)\n",
    "s.add(x[n-1] == 30)\n",
    "s.add(y[0] == 1)\n",
    "s.add(y[n-1] == 39)\n",
    "s.check()\n",
    "m = s.model()"
   ]
  },
  {
   "cell_type": "code",
   "execution_count": 27,
   "id": "c20278ee-7e20-43e8-b605-371e76a8eea8",
   "metadata": {
    "tags": []
   },
   "outputs": [
    {
     "name": "stdout",
     "output_type": "stream",
     "text": [
      "5   1\n",
      "6   1\n",
      "7   1\n",
      "8   1\n",
      "9   1\n",
      "9   2\n",
      "9   3\n",
      "10   3\n",
      "11   3\n",
      "12   3\n",
      "12   4\n",
      "13   4\n",
      "14   4\n",
      "14   5\n",
      "14   6\n",
      "15   6\n",
      "15   7\n",
      "16   7\n",
      "17   7\n",
      "17   8\n",
      "18   8\n",
      "19   8\n",
      "19   9\n",
      "20   9\n",
      "20   10\n",
      "20   11\n",
      "20   12\n",
      "20   12\n",
      "21   12\n",
      "21   13\n",
      "20   13\n",
      "20   13\n",
      "21   13\n",
      "22   13\n",
      "22   14\n",
      "22   15\n",
      "22   16\n",
      "22   17\n",
      "23   17\n",
      "24   17\n",
      "23   17\n",
      "24   17\n",
      "23   17\n",
      "24   17\n",
      "24   18\n",
      "24   19\n",
      "25   19\n",
      "26   19\n",
      "27   19\n",
      "27   20\n",
      "28   20\n",
      "27   20\n",
      "28   20\n",
      "28   21\n",
      "29   21\n",
      "28   21\n",
      "28   22\n",
      "29   22\n",
      "30   22\n",
      "30   23\n",
      "30   24\n",
      "31   24\n",
      "30   24\n",
      "30   25\n",
      "29   25\n",
      "30   25\n",
      "30   26\n",
      "31   26\n",
      "32   26\n",
      "32   27\n",
      "32   28\n",
      "32   29\n",
      "32   30\n",
      "31   30\n",
      "31   31\n",
      "31   32\n",
      "30   32\n",
      "30   33\n",
      "31   33\n",
      "30   33\n",
      "29   33\n",
      "30   33\n",
      "31   33\n",
      "30   33\n",
      "31   33\n",
      "31   34\n",
      "31   35\n",
      "30   35\n",
      "29   35\n",
      "30   35\n",
      "29   35\n",
      "29   36\n",
      "30   36\n",
      "31   36\n",
      "32   36\n",
      "32   37\n",
      "32   38\n",
      "31   38\n",
      "30   38\n",
      "30   39\n"
     ]
    }
   ],
   "source": [
    "xp, yp = n*[0], n*[0]\n",
    "for i in range(n):\n",
    "    xp[i], yp[i] = (m[x[i]].as_long(), m[y[i]].as_long())\n",
    "    print(f'{xp[i]}   {yp[i]}')"
   ]
  },
  {
   "cell_type": "code",
   "execution_count": 28,
   "id": "15def72f-060e-4a57-9ad6-1e5464e3758d",
   "metadata": {},
   "outputs": [
    {
     "data": {
      "image/png": "[encoded data removed]",
      "text/plain": [
       "<Figure size 432x288 with 1 Axes>"
      ]
     },
     "metadata": {
      "needs_background": "light"
     },
     "output_type": "display_data"
    }
   ],
   "source": [
    "import matplotlib.pyplot as plt\n",
    "\n",
    "\n",
    "plt.scatter(xp,yp)\n",
    "plt.show()\n"
   ]
  },
  {
   "cell_type": "code",
   "execution_count": null,
   "id": "ac18213e-358d-4378-90d5-105e441b5aff",
   "metadata": {},
   "outputs": [],
   "source": []
  },
  {
   "cell_type": "code",
   "execution_count": 29,
   "id": "9bbfe8cc-c194-4246-9c7d-0d362e259ad5",
   "metadata": {},
   "outputs": [
    {
     "name": "stdout",
     "output_type": "stream",
     "text": [
      "no solution\n"
     ]
    }
   ],
   "source": []
  },
  {
   "cell_type": "code",
   "execution_count": null,
   "id": "542b03e0-9e27-4334-a350-ce0f13e1cf1b",
   "metadata": {},
   "outputs": [],
   "source": []
  },
  {
   "cell_type": "code",
   "execution_count": 2,
   "id": "6b4edd11-583a-48c0-9fcb-43627417c65f",
   "metadata": {},
   "outputs": [],
   "source": []
  },
  {
   "cell_type": "code",
   "execution_count": 42,
   "id": "91884af4-5be1-47b4-911e-8ece1fddad85",
   "metadata": {},
   "outputs": [
    {
     "name": "stdout",
     "output_type": "stream",
     "text": [
      "sat\n"
     ]
    }
   ],
   "source": [
    "n = 20\n",
    "\n",
    "xa = n*[None]\n",
    "ya = n*[None]\n",
    "\n",
    "for i in range(n):\n",
    "    xa[i] = z3.Int(f'xa[{i}]')\n",
    "    ya[i] = z3.Int(f'ya[{i}]')\n",
    "\n",
    "s = z3.Solver()\n",
    "for i in range(1,n):\n",
    "    s.add(z3.Or(\n",
    "                z3.And(z3.Or(xa[i] == xa[i-1]+1, xa[i] == xa[i-1]-1, xa[i] == xa[i-1]), ya[i] == ya[i-1]),\n",
    "                z3.And(z3.Or(ya[i] == ya[i-1]+1, ya[i] == ya[i-1]-1), xa[i] == xa[i-1])\n",
    "                )\n",
    "            )\n",
    "                    \n",
    "xb = n*[None]\n",
    "yb = n*[None]\n",
    "\n",
    "for i in range(n):\n",
    "    xb[i] = z3.Int(f'xb[{i}]')\n",
    "    yb[i] = z3.Int(f'yb[{i}]')\n",
    "\n",
    "for i in range(1,n):\n",
    "    s.add(z3.Or(\n",
    "                z3.And(z3.Or(xb[i] == xb[i-1]+1, xb[i] == xb[i-1]-1, xb[i] == xb[i-1]), yb[i] == yb[i-1]),\n",
    "                z3.And(z3.Or(yb[i] == yb[i-1]+1, yb[i] == yb[i-1]-1), xb[i] == xb[i-1])\n",
    "                )\n",
    "            )                 \n",
    "\n",
    "for a in range(n):\n",
    "    for b in range(n):\n",
    "        s.add(z3.Not(z3.And(xa[a]==xb[b],ya[a]==yb[b])))\n",
    "        \n",
    "    \n",
    "s.add(xa[0] == 5)\n",
    "s.add(xa[n-1] == 8)\n",
    "s.add(ya[0] == 3)\n",
    "s.add(ya[n-1] == 6)\n",
    "s.add(xb[0] == 4)\n",
    "s.add(xb[n-1] == 7)\n",
    "s.add(yb[0] == 6)\n",
    "s.add(yb[n-1] == 2)\n",
    "\n",
    "print(s.check())\n",
    "m = s.model()"
   ]
  },
  {
   "cell_type": "code",
   "execution_count": 43,
   "id": "eddf777a-7a8b-41a9-b9f2-dd4e5d3a6e7a",
   "metadata": {},
   "outputs": [],
   "source": [
    "xap, yap = n*[0], n*[0]\n",
    "for i in range(n):\n",
    "    xap[i], yap[i] = (m[xa[i]].as_long(), m[ya[i]].as_long())\n",
    "\n",
    "xbp, ybp = n*[0], n*[0]\n",
    "for i in range(n):\n",
    "    xbp[i], ybp[i] = (m[xb[i]].as_long(), m[yb[i]].as_long())\n"
   ]
  },
  {
   "cell_type": "code",
   "execution_count": 44,
   "id": "7a204cdd-156c-42d7-b608-fcab8c5c6a46",
   "metadata": {},
   "outputs": [
    {
     "data": {
      "image/png": "[encoded data removed]",
      "text/plain": [
       "<Figure size 432x288 with 1 Axes>"
      ]
     },
     "metadata": {
      "needs_background": "light"
     },
     "output_type": "display_data"
    }
   ],
   "source": [
    "import matplotlib.pyplot as plt\n",
    "\n",
    "\n",
    "\n",
    "fig = plt.figure()\n",
    "ax1 = fig.add_subplot(111)\n",
    "\n",
    "ax1.scatter(xap, yap, s=10 )\n",
    "ax1.scatter(xbp, ybp, s=10 )\n",
    "plt.show()\n"
   ]
  },
  {
   "cell_type": "code",
   "execution_count": null,
   "id": "aa4a7bd0-8550-418c-94e3-e84605a105fd",
   "metadata": {},
   "outputs": [],
   "source": []
  },
  {
   "cell_type": "code",
   "execution_count": null,
   "id": "1449bc80-63c7-45f2-bb67-5fcaec773eef",
   "metadata": {},
   "outputs": [],
   "source": []
  }
 ],
 "metadata": {
  "kernelspec": {
   "display_name": "Python 3",
   "language": "python",
   "name": "python3"
  },
  "language_info": {
   "codemirror_mode": {
    "name": "ipython",
    "version": 3
   },
   "file_extension": ".py",
   "mimetype": "text/x-python",
   "name": "python",
   "nbconvert_exporter": "python",
   "pygments_lexer": "ipython3",
   "version": "3.8.10"
  }
 },
 "nbformat": 4,
 "nbformat_minor": 5
}
