{
 "cells": [
  {
   "cell_type": "code",
   "execution_count": 19,
   "id": "d83aa8dd-e1f7-40fe-86d1-a7ee8e10c77f",
   "metadata": {
    "editable": true,
    "slideshow": {
     "slide_type": ""
    },
    "tags": []
   },
   "outputs": [
    {
     "name": "stdout",
     "output_type": "stream",
     "text": [
      "sat\n",
      "[y_0_2 = 22,\n",
      " y_1_1 = 2,\n",
      " x_0_1 = -1,\n",
      " y_2_2 = 0,\n",
      " x_2_2 = -3,\n",
      " x_0_2 = -2,\n",
      " x_1_1 = 19,\n",
      " y_0_1 = 4,\n",
      " y_1_2 = 24,\n",
      " x_1_2 = 16,\n",
      " y_2_1 = 0,\n",
      " x_2_1 = 1,\n",
      " x_1_3 = 17,\n",
      " y_1_0 = 1,\n",
      " y_2_0 = 0,\n",
      " x_2_0 = 0,\n",
      " x_1_0 = 9,\n",
      " x_2_3 = 20,\n",
      " y_1_3 = 13,\n",
      " y_0_0 = 5,\n",
      " x_0_0 = 3,\n",
      " y_2_3 = 20,\n",
      " y_0_3 = 23,\n",
      " x_0_3 = 15]\n"
     ]
    },
    {
     "data": {
      "image/png": "[encoded data removed]",
      "text/plain": [
       "<Figure size 640x480 with 1 Axes>"
      ]
     },
     "metadata": {},
     "output_type": "display_data"
    }
   ],
   "source": [
    "from matplotlib import pyplot as plt\n",
    "\n",
    "import z3\n",
    "z3.set_param(\"parallel.enable\", \"true\")\n",
    "\n",
    "def Abs(x):\n",
    "    return z3.If(x >= 0,x,-x)\n",
    "\n",
    "def Max(x, y):\n",
    "    return z3.If(x>=y, x, y)\n",
    "\n",
    "def Min(x, y):\n",
    "    return z3.If(x<=y, x, y)\n",
    "\n",
    "def collision(xa1, xa2, ya, xb, yb1, yb2):\n",
    "    return z3.Or(xb < Min(xa1,xa2) , xb > Max(xa1,xa2) , ya < Min(yb1,yb2) , ya > Max(yb1,yb2))\n",
    "\n",
    "def make_sig(x, y, n=4):\n",
    "    return [(x[int(i/2)],x[int(i/2+1)],y[int(i/2)]) if i%2==0 else (x[int(i/2+0.5)],y[int(i/2)],y[int(i/2+0.5)]) for i in range(n)]\n",
    "\n",
    "def collision_model(sig1, sig2):\n",
    "    l = []\n",
    "    for i1, s1 in enumerate(sig1):\n",
    "        for i2, s2 in enumerate(sig2):\n",
    "            if i1 % 2 == 0:\n",
    "                if i2 % 2 == 1:\n",
    "                    l.append(collision(s1[0], s1[1], s1[2], s2[0], s2[1], s2[2]))\n",
    "            if i1 % 2 == 1:\n",
    "                if i2 % 2 == 0:\n",
    "                    l.append(collision(s2[0], s2[1], s2[2], s1[0], s1[1], s1[2]))\n",
    "    return l\n",
    "\n",
    "\n",
    "def declare_all_signals(nbr_sigs, nbr_segms):\n",
    "    return [[[z3.Int(f\"x_{k}_{i}\"), z3.Int(f\"y_{k}_{i}\")] for i in range(nbr_segms)] for k in range(nbr_sigs)]\n",
    "\n",
    "def make_all_signals(s):\n",
    "    return [make_sig([x[0] for x in e], [y[1] for y in e], int(len(e)/2+2)) for e in s]\n",
    "\n",
    "#def make_all_collisions(sigs):\n",
    "    \n",
    "\n",
    "s = z3.Solver()\n",
    "\n",
    "\n",
    "\n",
    "pts = declare_all_signals(3, 8)\n",
    "\n",
    "\n",
    "\n",
    "sig1, sig2, sig3 = make_all_signals(pts)\n",
    "\n",
    "\n",
    "s.add(collision_model(sig1, sig2))\n",
    "s.add(collision_model(sig2, sig3))\n",
    "s.add(collision_model(sig1, sig3))\n",
    "\n",
    "        \n",
    "\n",
    "\n",
    "\n",
    "s.add(pts[0][0][0] == 3)\n",
    "s.add(pts[0][0][1] == 5)\n",
    "s.add(pts[0][3][0] == 15)\n",
    "s.add(pts[0][3][1] == 23)\n",
    "\n",
    "s.add(pts[1][0][0] == 9)\n",
    "s.add(pts[1][0][1] == 1)\n",
    "s.add(pts[1][3][0] == 17)\n",
    "s.add(pts[1][3][1] == 13)\n",
    "\n",
    "s.add(pts[2][0][0] == 0)\n",
    "s.add(pts[2][0][1] == 0)\n",
    "s.add(pts[2][3][0] == 20)\n",
    "s.add(pts[2][3][1] == 20)\n",
    "\n",
    "\n",
    "print(s.check())\n",
    "m = s.model()\n",
    "print(m)\n",
    "\n",
    "\n",
    "\n",
    "xav = [m[e[0]].as_long() for e in pts[0] if m[e[0]] is not None]\n",
    "yav = [m[e[1]].as_long() for e in pts[0] if m[e[1]] is not None]\n",
    "xbv = [m[e[0]].as_long() for e in pts[1] if m[e[0]] is not None]\n",
    "ybv = [m[e[1]].as_long() for e in pts[1] if m[e[1]] is not None]\n",
    "xcv = [m[e[0]].as_long() for e in pts[2] if m[e[0]] is not None]\n",
    "ycv = [m[e[1]].as_long() for e in pts[2] if m[e[1]] is not None]\n",
    "\n",
    "\n",
    "\n",
    "\n",
    "ptsa = [(xav[int(i/2+0.5)], yav[int(i/2)]) for i in range(len(xav)+len(yav)-1)]\n",
    "ptsb = [(xbv[int(i/2+0.5)], ybv[int(i/2)]) for i in range(len(xbv)+len(ybv)-1)]\n",
    "ptsc = [(xcv[int(i/2+0.5)], ycv[int(i/2)]) for i in range(len(xcv)+len(ycv)-1)]\n",
    "\n",
    "plt.plot(*zip(*ptsa))\n",
    "plt.plot(*zip(*ptsb))\n",
    "plt.plot(*zip(*ptsc))\n",
    "plt.show()\n",
    "\n"
   ]
  },
  {
   "cell_type": "code",
   "execution_count": 243,
   "id": "9423e456-4705-4611-93cc-e5d327846342",
   "metadata": {},
   "outputs": [
    {
     "data": {
      "text/plain": [
       "24"
      ]
     },
     "execution_count": 243,
     "metadata": {},
     "output_type": "execute_result"
    }
   ],
   "source": [
    "m[m[0]].as_long()"
   ]
  },
  {
   "cell_type": "code",
   "execution_count": 12,
   "id": "cb93ff35-d954-4a0b-ba1b-3a6b84750b7f",
   "metadata": {},
   "outputs": [],
   "source": [
    "def colision(xa1, xa2, ya, xb, yb1, yb2):\n",
    "    return xb < min(xa1,xa2) or xb > max(xa1,xa2) or ya < min(yb1,yb2) or ya > max(yb1,yb2)"
   ]
  },
  {
   "cell_type": "code",
   "execution_count": 14,
   "id": "45580c01-0944-403d-ae0d-822c9d900786",
   "metadata": {},
   "outputs": [
    {
     "data": {
      "text/plain": [
       "False"
      ]
     },
     "execution_count": 14,
     "metadata": {},
     "output_type": "execute_result"
    }
   ],
   "source": [
    "colision(3, 8, 5, 3, 1, 9)"
   ]
  },
  {
   "cell_type": "code",
   "execution_count": 9,
   "id": "68e019cf-f41a-4904-ab37-dba9db8a66ff",
   "metadata": {},
   "outputs": [
    {
     "name": "stdout",
     "output_type": "stream",
     "text": [
      "0:5\n",
      "1:4\n",
      "2:2\n",
      "3:-3\n",
      "4:1\n",
      "[(5, 0), (5, 4), (7, 4), (7, 1), (8, 1)]\n"
     ]
    }
   ],
   "source": [
    "l1 = [5, 4, 2, -3,1]\n",
    "x = 0\n",
    "y = 0\n",
    "pts = []\n",
    "for i, e in enumerate(l1):\n",
    "    print(f\"{i}:{e}\")\n",
    "    if i % 2 == 0:\n",
    "        x += e\n",
    "    else:\n",
    "        y += e\n",
    "    pts.append((x,y))\n",
    "print(pts)"
   ]
  },
  {
   "cell_type": "code",
   "execution_count": 10,
   "id": "624d0079-5749-469a-9ccd-43f449bd8c11",
   "metadata": {},
   "outputs": [
    {
     "data": {
      "text/plain": [
       "[<matplotlib.lines.Line2D at 0x7dd415178ed0>]"
      ]
     },
     "execution_count": 10,
     "metadata": {},
     "output_type": "execute_result"
    },
    {
     "data": {
      "image/png": "[encoded data removed]",
      "text/plain": [
       "<Figure size 640x480 with 1 Axes>"
      ]
     },
     "metadata": {},
     "output_type": "display_data"
    }
   ],
   "source": [
    "from matplotlib import pyplot as plt\n",
    "plt.plot(*zip(*pts))"
   ]
  },
  {
   "cell_type": "code",
   "execution_count": 116,
   "id": "1906708f-e16a-47b0-8e2d-a708620bddba",
   "metadata": {},
   "outputs": [
    {
     "ename": "SyntaxError",
     "evalue": "did you forget parentheses around the comprehension target? (3726534326.py, line 1)",
     "output_type": "error",
     "traceback": [
      "\u001b[0;36m  Cell \u001b[0;32mIn[116], line 1\u001b[0;36m\u001b[0m\n\u001b[0;31m    [3,i for i in range(7)]\u001b[0m\n\u001b[0m     ^\u001b[0m\n\u001b[0;31mSyntaxError\u001b[0m\u001b[0;31m:\u001b[0m did you forget parentheses around the comprehension target?\n"
     ]
    }
   ],
   "source": [
    "[3,i for i in range(7)]"
   ]
  },
  {
   "cell_type": "code",
   "execution_count": 267,
   "id": "aef190ef-0bee-4128-98f9-19f27ac559c3",
   "metadata": {},
   "outputs": [
    {
     "name": "stdout",
     "output_type": "stream",
     "text": [
      "(3, 15, 15, 16, 16, 15, 15) (5, 5, -2, -2, 16, 16, 23)\n"
     ]
    }
   ],
   "source": [
    "print(*zip(*ptsa))"
   ]
  },
  {
   "cell_type": "code",
   "execution_count": 281,
   "id": "7bc0e313-83f5-4c6d-a82b-3238546a5ba0",
   "metadata": {},
   "outputs": [
    {
     "data": {
      "text/plain": [
       "{ya1: 24,\n",
       " xb2: -3,\n",
       " yc2: -2,\n",
       " yb1: 4,\n",
       " xa2: 16,\n",
       " yb2: 3,\n",
       " yc1: 2,\n",
       " ya2: 24,\n",
       " xc1: -1,\n",
       " xb1: 17,\n",
       " xa1: 15,\n",
       " xc2: -2,\n",
       " yb0: 1,\n",
       " ya0: 5,\n",
       " xb0: 9,\n",
       " xc0: 0,\n",
       " xb3: 17,\n",
       " xa3: 15,\n",
       " yc0: 0,\n",
       " xa0: 3,\n",
       " yc3: 20,\n",
       " xc3: 20,\n",
       " yb3: 13,\n",
       " ya3: 23}"
      ]
     },
     "execution_count": 281,
     "metadata": {},
     "output_type": "execute_result"
    }
   ],
   "source": [
    "{e: m[e] for e in m}"
   ]
  },
  {
   "cell_type": "code",
   "execution_count": 2,
   "id": "7ede9690-a4b2-4531-9018-0c83984d0b7b",
   "metadata": {},
   "outputs": [],
   "source": [
    "e = [[1,2],[3,4]]"
   ]
  },
  {
   "cell_type": "code",
   "execution_count": 7,
   "id": "55dc38d8-94a6-42e9-a329-ec115a3fa13c",
   "metadata": {},
   "outputs": [
    {
     "data": {
      "text/plain": [
       "[1, 3]"
      ]
     },
     "execution_count": 7,
     "metadata": {},
     "output_type": "execute_result"
    }
   ],
   "source": [
    "[s[0] for s in e]"
   ]
  },
  {
   "cell_type": "code",
   "execution_count": null,
   "id": "151b7288-ed83-457f-91d6-96774f826a5f",
   "metadata": {},
   "outputs": [],
   "source": []
  }
 ],
 "metadata": {
  "kernelspec": {
   "display_name": "Python 3 (ipykernel)",
   "language": "python",
   "name": "python3"
  },
  "language_info": {
   "codemirror_mode": {
    "name": "ipython",
    "version": 3
   },
   "file_extension": ".py",
   "mimetype": "text/x-python",
   "name": "python",
   "nbconvert_exporter": "python",
   "pygments_lexer": "ipython3",
   "version": "3.11.6"
  }
 },
 "nbformat": 4,
 "nbformat_minor": 5
}
