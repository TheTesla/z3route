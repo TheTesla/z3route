{
 "cells": [
  {
   "cell_type": "code",
   "execution_count": 35,
   "id": "d83aa8dd-e1f7-40fe-86d1-a7ee8e10c77f",
   "metadata": {
    "editable": true,
    "slideshow": {
     "slide_type": ""
    },
    "tags": []
   },
   "outputs": [
    {
     "name": "stdout",
     "output_type": "stream",
     "text": [
      "sat\n",
      "[yb2 = 22,\n",
      " xb2 = 16,\n",
      " ya2 = 23,\n",
      " xa3 = 8,\n",
      " xa2 = 3,\n",
      " yb3 = 24,\n",
      " xa1 = 3,\n",
      " xb1 = 9,\n",
      " xb3 = 17,\n",
      " xa4 = 15,\n",
      " yb1 = 1,\n",
      " yb4 = 13,\n",
      " ya3 = 23,\n",
      " ya1 = 5]\n"
     ]
    }
   ],
   "source": [
    "import z3\n",
    "z3.set_param(\"parallel.enable\", \"true\")\n",
    "\n",
    "def Abs(x):\n",
    "    return z3.If(x >= 0,x,-x)\n",
    "\n",
    "def Max(x, y):\n",
    "    return z3.If(x>=y, x, y)\n",
    "\n",
    "def Min(x, y):\n",
    "    return z3.If(x<=y, x, y)\n",
    "\n",
    "def collision(xa1, xa2, ya, xb, yb1, yb2):\n",
    "    return z3.Or(xb < Min(xa1,xa2) , xb > Max(xa1,xa2) , ya < Min(yb1,yb2) , ya > Max(yb1,yb2))\n",
    "\n",
    "\n",
    "s = z3.Solver()\n",
    "\n",
    "xa1 = z3.Int(\"xa1\")\n",
    "xa2 = z3.Int(\"xa2\")\n",
    "xa3 = z3.Int(\"xa3\")\n",
    "xa4 = z3.Int(\"xa4\")\n",
    "\n",
    "ya1 = z3.Int(\"ya1\")\n",
    "ya2 = z3.Int(\"ya2\")\n",
    "ya3 = z3.Int(\"ya3\")\n",
    "\n",
    "xb1 = z3.Int(\"xb1\")\n",
    "xb2 = z3.Int(\"xb2\")\n",
    "xb3 = z3.Int(\"xb3\")\n",
    "xb4 = z3.Int(\"xb4\")\n",
    "\n",
    "yb1 = z3.Int(\"yb1\")\n",
    "yb2 = z3.Int(\"yb2\")\n",
    "yb3 = z3.Int(\"yb3\")\n",
    "yb4 = z3.Int(\"yb4\")\n",
    "\n",
    "\n",
    "#s.add(collision(3,10,5,8,yb1,yb2))\n",
    "#sig1 = [collision(xa1,xa2,ya1,xb1,yb1,yb2), collision(xb1,xb2,yb2,xa2,ya1,ya2), collision(xa3,xa2,ya2,xb2,yb2,yb3), collision(xb3,xb2,yb3,xa3,ya2,ya3), collision(xa3,xa4,ya4,xb3,yb4,yb3),]\n",
    "sig1 = [(xa1,xa2,ya1), (xa2,ya1,ya2), (xa3,xa2,ya2), (xa3,ya2,ya3), (xa4,xa3,ya3)]\n",
    "sig2 = [(xb1,yb1,yb2), (xb1,xb2,yb2), (xb2,yb2,yb3), (xb3,xb2,yb3), (xb3,yb4,yb3)]\n",
    "\n",
    "for i1, s1 in enumerate(sig1):\n",
    "    for i2, s2 in enumerate(sig2):\n",
    "        if i1 % 2 == 0:\n",
    "            if i2 % 2 == 0:\n",
    "                s.add(collision(s1[0], s1[1], s1[2], s2[0], s2[1], s2[2]))\n",
    "\n",
    "        if i1 % 2 == 1:\n",
    "            if i2 % 2 == 1:\n",
    "                s.add(collision(s2[0], s2[1], s2[2], s1[0], s1[1], s1[2]))\n",
    "        \n",
    "\n",
    "s.add(xa1 == 3)\n",
    "s.add(ya1 == 5)\n",
    "s.add(xa4 == 15)\n",
    "s.add(ya3 == 23)\n",
    "\n",
    "s.add(xb1 == 9)\n",
    "s.add(yb1 == 1)\n",
    "s.add(xb3 == 17)\n",
    "s.add(yb4 == 13)\n",
    "\n",
    "print(s.check())\n",
    "print(s.model())\n",
    "\n"
   ]
  },
  {
   "cell_type": "code",
   "execution_count": null,
   "id": "9423e456-4705-4611-93cc-e5d327846342",
   "metadata": {},
   "outputs": [],
   "source": []
  },
  {
   "cell_type": "code",
   "execution_count": 12,
   "id": "cb93ff35-d954-4a0b-ba1b-3a6b84750b7f",
   "metadata": {},
   "outputs": [],
   "source": [
    "def colision(xa1, xa2, ya, xb, yb1, yb2):\n",
    "    return xb < min(xa1,xa2) or xb > max(xa1,xa2) or ya < min(yb1,yb2) or ya > max(yb1,yb2)"
   ]
  },
  {
   "cell_type": "code",
   "execution_count": 14,
   "id": "45580c01-0944-403d-ae0d-822c9d900786",
   "metadata": {},
   "outputs": [
    {
     "data": {
      "text/plain": [
       "False"
      ]
     },
     "execution_count": 14,
     "metadata": {},
     "output_type": "execute_result"
    }
   ],
   "source": [
    "colision(3, 8, 5, 3, 1, 9)"
   ]
  },
  {
   "cell_type": "code",
   "execution_count": 9,
   "id": "68e019cf-f41a-4904-ab37-dba9db8a66ff",
   "metadata": {},
   "outputs": [
    {
     "name": "stdout",
     "output_type": "stream",
     "text": [
      "0:5\n",
      "1:4\n",
      "2:2\n",
      "3:-3\n",
      "4:1\n",
      "[(5, 0), (5, 4), (7, 4), (7, 1), (8, 1)]\n"
     ]
    }
   ],
   "source": [
    "l1 = [5, 4, 2, -3,1]\n",
    "x = 0\n",
    "y = 0\n",
    "pts = []\n",
    "for i, e in enumerate(l1):\n",
    "    print(f\"{i}:{e}\")\n",
    "    if i % 2 == 0:\n",
    "        x += e\n",
    "    else:\n",
    "        y += e\n",
    "    pts.append((x,y))\n",
    "print(pts)"
   ]
  },
  {
   "cell_type": "code",
   "execution_count": 10,
   "id": "624d0079-5749-469a-9ccd-43f449bd8c11",
   "metadata": {},
   "outputs": [
    {
     "data": {
      "text/plain": [
       "[<matplotlib.lines.Line2D at 0x7dd415178ed0>]"
      ]
     },
     "execution_count": 10,
     "metadata": {},
     "output_type": "execute_result"
    },
    {
     "data": {
      "image/png": "[encoded data removed]",
      "text/plain": [
       "<Figure size 640x480 with 1 Axes>"
      ]
     },
     "metadata": {},
     "output_type": "display_data"
    }
   ],
   "source": [
    "from matplotlib import pyplot as plt\n",
    "plt.plot(*zip(*pts))"
   ]
  },
  {
   "cell_type": "code",
   "execution_count": null,
   "id": "1906708f-e16a-47b0-8e2d-a708620bddba",
   "metadata": {},
   "outputs": [],
   "source": []
  }
 ],
 "metadata": {
  "kernelspec": {
   "display_name": "Python 3 (ipykernel)",
   "language": "python",
   "name": "python3"
  },
  "language_info": {
   "codemirror_mode": {
    "name": "ipython",
    "version": 3
   },
   "file_extension": ".py",
   "mimetype": "text/x-python",
   "name": "python",
   "nbconvert_exporter": "python",
   "pygments_lexer": "ipython3",
   "version": "3.11.6"
  }
 },
 "nbformat": 4,
 "nbformat_minor": 5
}
