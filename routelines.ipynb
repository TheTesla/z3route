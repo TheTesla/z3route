{
 "cells": [
  {
   "cell_type": "code",
   "execution_count": 260,
   "id": "d83aa8dd-e1f7-40fe-86d1-a7ee8e10c77f",
   "metadata": {
    "editable": true,
    "slideshow": {
     "slide_type": ""
    },
    "tags": []
   },
   "outputs": [
    {
     "name": "stdout",
     "output_type": "stream",
     "text": [
      "sat\n"
     ]
    },
    {
     "data": {
      "image/png": "[encoded data removed]",
      "text/plain": [
       "<Figure size 640x480 with 1 Axes>"
      ]
     },
     "metadata": {},
     "output_type": "display_data"
    }
   ],
   "source": [
    "from matplotlib import pyplot as plt\n",
    "\n",
    "import z3\n",
    "z3.set_param(\"parallel.enable\", \"true\")\n",
    "\n",
    "def Abs(x):\n",
    "    return z3.If(x >= 0,x,-x)\n",
    "\n",
    "def Max(x, y):\n",
    "    return z3.If(x>=y, x, y)\n",
    "\n",
    "def Min(x, y):\n",
    "    return z3.If(x<=y, x, y)\n",
    "\n",
    "def collision(xa1, xa2, ya, xb, yb1, yb2):\n",
    "    return z3.Or(xb < Min(xa1,xa2) , xb > Max(xa1,xa2) , ya < Min(yb1,yb2) , ya > Max(yb1,yb2))\n",
    "\n",
    "def make_sig(x, y, n=4):\n",
    "    return [(x[int(i/2)],x[int(i/2+1)],y[int(i/2)]) if i%2==0 else (x[int(i/2+0.5)],y[int(i/2)],y[int(i/2+0.5)]) for i in range(n)]\n",
    "\n",
    "def collision_model(sig1, sig2):\n",
    "    l = []\n",
    "    for i1, s1 in enumerate(sig1):\n",
    "        for i2, s2 in enumerate(sig2):\n",
    "            if i1 % 2 == 0:\n",
    "                if i2 % 2 == 1:\n",
    "                    l.append(collision(s1[0], s1[1], s1[2], s2[0], s2[1], s2[2]))\n",
    "            if i1 % 2 == 1:\n",
    "                if i2 % 2 == 0:\n",
    "                    l.append(collision(s2[0], s2[1], s2[2], s1[0], s1[1], s1[2]))\n",
    "    return l\n",
    "\n",
    "\n",
    "\n",
    "s = z3.Solver()\n",
    "\n",
    "xa = [z3.Int(f\"xa{i}\") for i in range(8)]\n",
    "ya = [z3.Int(f\"ya{i}\") for i in range(8)]\n",
    "xb = [z3.Int(f\"xb{i}\") for i in range(8)]\n",
    "yb = [z3.Int(f\"yb{i}\") for i in range(8)]\n",
    "xc = [z3.Int(f\"xc{i}\") for i in range(8)]\n",
    "yc = [z3.Int(f\"yc{i}\") for i in range(8)]\n",
    "\n",
    "\n",
    "\n",
    "\n",
    "\n",
    "sig1 = make_sig(xa, ya, 6)\n",
    "sig2 = make_sig(xb, yb, 6)\n",
    "sig3 = make_sig(xc, yc, 6)\n",
    "\n",
    "\n",
    "s.add(collision_model(sig1, sig2))\n",
    "s.add(collision_model(sig2, sig3))\n",
    "s.add(collision_model(sig1, sig3))\n",
    "\n",
    "        \n",
    "\n",
    "s.add(xa[0] == 3)\n",
    "s.add(ya[0] == 5)\n",
    "s.add(xa[3] == 15)\n",
    "s.add(ya[3] == 23)\n",
    "\n",
    "s.add(xb[0] == 9)\n",
    "s.add(yb[0] == 1)\n",
    "s.add(xb[3] == 17)\n",
    "s.add(yb[3] == 13)\n",
    "\n",
    "s.add(xc[0] == 0)\n",
    "s.add(yc[0] == 0)\n",
    "s.add(xc[3] == 20)\n",
    "s.add(yc[3] == 20)\n",
    "\n",
    "\n",
    "print(s.check())\n",
    "m = s.model()\n",
    "#print(m)\n",
    "\n",
    "\n",
    "\n",
    "xav = [m[e].as_long() for e in xa if m[e] is not None]\n",
    "yav = [m[e].as_long() for e in ya if m[e] is not None]\n",
    "xbv = [m[e].as_long() for e in xb if m[e] is not None]\n",
    "ybv = [m[e].as_long() for e in yb if m[e] is not None]\n",
    "xcv = [m[e].as_long() for e in xc if m[e] is not None]\n",
    "ycv = [m[e].as_long() for e in yc if m[e] is not None]\n",
    "\n",
    "\n",
    "\n",
    "\n",
    "ptsa = [(xav[int(i/2+0.5)], yav[int(i/2)]) for i in range(len(xav)+len(yav)-1)]\n",
    "ptsb = [(xbv[int(i/2+0.5)], ybv[int(i/2)]) for i in range(len(xbv)+len(ybv)-1)]\n",
    "ptsc = [(xcv[int(i/2+0.5)], ycv[int(i/2)]) for i in range(len(xcv)+len(ycv)-1)]\n",
    "\n",
    "plt.plot(*zip(*ptsa))\n",
    "plt.plot(*zip(*ptsb))\n",
    "plt.plot(*zip(*ptsc))\n",
    "plt.show()\n",
    "\n"
   ]
  },
  {
   "cell_type": "code",
   "execution_count": 243,
   "id": "9423e456-4705-4611-93cc-e5d327846342",
   "metadata": {},
   "outputs": [
    {
     "data": {
      "text/plain": [
       "24"
      ]
     },
     "execution_count": 243,
     "metadata": {},
     "output_type": "execute_result"
    }
   ],
   "source": [
    "m[m[0]].as_long()"
   ]
  },
  {
   "cell_type": "code",
   "execution_count": 12,
   "id": "cb93ff35-d954-4a0b-ba1b-3a6b84750b7f",
   "metadata": {},
   "outputs": [],
   "source": [
    "def colision(xa1, xa2, ya, xb, yb1, yb2):\n",
    "    return xb < min(xa1,xa2) or xb > max(xa1,xa2) or ya < min(yb1,yb2) or ya > max(yb1,yb2)"
   ]
  },
  {
   "cell_type": "code",
   "execution_count": 14,
   "id": "45580c01-0944-403d-ae0d-822c9d900786",
   "metadata": {},
   "outputs": [
    {
     "data": {
      "text/plain": [
       "False"
      ]
     },
     "execution_count": 14,
     "metadata": {},
     "output_type": "execute_result"
    }
   ],
   "source": [
    "colision(3, 8, 5, 3, 1, 9)"
   ]
  },
  {
   "cell_type": "code",
   "execution_count": 9,
   "id": "68e019cf-f41a-4904-ab37-dba9db8a66ff",
   "metadata": {},
   "outputs": [
    {
     "name": "stdout",
     "output_type": "stream",
     "text": [
      "0:5\n",
      "1:4\n",
      "2:2\n",
      "3:-3\n",
      "4:1\n",
      "[(5, 0), (5, 4), (7, 4), (7, 1), (8, 1)]\n"
     ]
    }
   ],
   "source": [
    "l1 = [5, 4, 2, -3,1]\n",
    "x = 0\n",
    "y = 0\n",
    "pts = []\n",
    "for i, e in enumerate(l1):\n",
    "    print(f\"{i}:{e}\")\n",
    "    if i % 2 == 0:\n",
    "        x += e\n",
    "    else:\n",
    "        y += e\n",
    "    pts.append((x,y))\n",
    "print(pts)"
   ]
  },
  {
   "cell_type": "code",
   "execution_count": 10,
   "id": "624d0079-5749-469a-9ccd-43f449bd8c11",
   "metadata": {},
   "outputs": [
    {
     "data": {
      "text/plain": [
       "[<matplotlib.lines.Line2D at 0x7dd415178ed0>]"
      ]
     },
     "execution_count": 10,
     "metadata": {},
     "output_type": "execute_result"
    },
    {
     "data": {
      "image/png": "[encoded data removed]",
      "text/plain": [
       "<Figure size 640x480 with 1 Axes>"
      ]
     },
     "metadata": {},
     "output_type": "display_data"
    }
   ],
   "source": [
    "from matplotlib import pyplot as plt\n",
    "plt.plot(*zip(*pts))"
   ]
  },
  {
   "cell_type": "code",
   "execution_count": 116,
   "id": "1906708f-e16a-47b0-8e2d-a708620bddba",
   "metadata": {},
   "outputs": [
    {
     "ename": "SyntaxError",
     "evalue": "did you forget parentheses around the comprehension target? (3726534326.py, line 1)",
     "output_type": "error",
     "traceback": [
      "\u001b[0;36m  Cell \u001b[0;32mIn[116], line 1\u001b[0;36m\u001b[0m\n\u001b[0;31m    [3,i for i in range(7)]\u001b[0m\n\u001b[0m     ^\u001b[0m\n\u001b[0;31mSyntaxError\u001b[0m\u001b[0;31m:\u001b[0m did you forget parentheses around the comprehension target?\n"
     ]
    }
   ],
   "source": [
    "[3,i for i in range(7)]"
   ]
  },
  {
   "cell_type": "code",
   "execution_count": null,
   "id": "aef190ef-0bee-4128-98f9-19f27ac559c3",
   "metadata": {},
   "outputs": [],
   "source": []
  }
 ],
 "metadata": {
  "kernelspec": {
   "display_name": "Python 3 (ipykernel)",
   "language": "python",
   "name": "python3"
  },
  "language_info": {
   "codemirror_mode": {
    "name": "ipython",
    "version": 3
   },
   "file_extension": ".py",
   "mimetype": "text/x-python",
   "name": "python",
   "nbconvert_exporter": "python",
   "pygments_lexer": "ipython3",
   "version": "3.11.6"
  }
 },
 "nbformat": 4,
 "nbformat_minor": 5
}
